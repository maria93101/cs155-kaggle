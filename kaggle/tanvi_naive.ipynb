{
 "cells": [
  {
   "cell_type": "code",
   "execution_count": 1,
   "metadata": {},
   "outputs": [
    {
     "name": "stderr",
     "output_type": "stream",
     "text": [
      "Using TensorFlow backend.\n"
     ]
    }
   ],
   "source": [
    "# imports\n",
    "import numpy as np\n",
    "import matplotlib.pyplot as plt\n",
    "\n",
    "import tensorflow as tf\n",
    "import keras\n",
    "from keras.models import Sequential\n",
    "from keras.layers.core import Dense, Activation, Flatten, Dropout"
   ]
  },
  {
   "cell_type": "code",
   "execution_count": 2,
   "metadata": {},
   "outputs": [
    {
     "data": {
      "text/plain": [
       "'1.12.0'"
      ]
     },
     "execution_count": 2,
     "metadata": {},
     "output_type": "execute_result"
    }
   ],
   "source": [
    "# check tensorflow version\n",
    "tf.VERSION"
   ]
  },
  {
   "cell_type": "code",
   "execution_count": 3,
   "metadata": {},
   "outputs": [
    {
     "data": {
      "text/plain": [
       "'2.2.4'"
      ]
     },
     "execution_count": 3,
     "metadata": {},
     "output_type": "execute_result"
    }
   ],
   "source": [
    "# check keras version\n",
    "keras.__version__"
   ]
  },
  {
   "cell_type": "code",
   "execution_count": 10,
   "metadata": {},
   "outputs": [],
   "source": [
    "from keras import backend as k_back"
   ]
  },
  {
   "cell_type": "code",
   "execution_count": 11,
   "metadata": {},
   "outputs": [],
   "source": [
    "# define the AUC metric being used in the competition\n",
    "def auc(y_true, y_pred):\n",
    "    auc = tf.metrics.auc(y_true, y_pred)[1]\n",
    "    k_back.get_session().run(tf.local_variables_initializer())\n",
    "    return auc"
   ]
  },
  {
   "cell_type": "code",
   "execution_count": 4,
   "metadata": {},
   "outputs": [],
   "source": [
    "def load_data(filename, skiprows = 1):\n",
    "    \"\"\"\n",
    "    Function loads data stored in the file filename and returns it as a numpy ndarray.\n",
    "    \n",
    "    Inputs:\n",
    "        filename: given as a string.\n",
    "        \n",
    "    Outputs:\n",
    "        Data contained in the file, returned as a numpy ndarray\n",
    "    \"\"\"\n",
    "    return np.loadtxt(filename, skiprows=skiprows, delimiter=',')"
   ]
  },
  {
   "cell_type": "code",
   "execution_count": 56,
   "metadata": {},
   "outputs": [],
   "source": [
    "train = load_data('data/train_2008.csv', 1)\n",
    "test = load_data('data/test_2008.csv', 1)"
   ]
  },
  {
   "cell_type": "code",
   "execution_count": 83,
   "metadata": {},
   "outputs": [],
   "source": [
    "x_train = train[:, :-1]\n",
    "y_train = train[:, -1]\n",
    "\n",
    "x_test = test[:,:]"
   ]
  },
  {
   "cell_type": "code",
   "execution_count": 84,
   "metadata": {},
   "outputs": [
    {
     "name": "stdout",
     "output_type": "stream",
     "text": [
      "(64667, 382)\n",
      "(16000, 382)\n",
      "(64667,)\n"
     ]
    }
   ],
   "source": [
    "# look at the shapes\n",
    "print(x_train.shape)\n",
    "print(x_test.shape)\n",
    "print(y_train.shape)"
   ]
  },
  {
   "cell_type": "code",
   "execution_count": 85,
   "metadata": {},
   "outputs": [],
   "source": [
    "# clean up data, removing unnecessary columns\n",
    "x_train = np.delete(x_train, [0,1,2], 1)\n",
    "x_test = np.delete(x_test, [0,1,2], 1)"
   ]
  },
  {
   "cell_type": "code",
   "execution_count": 86,
   "metadata": {},
   "outputs": [
    {
     "name": "stdout",
     "output_type": "stream",
     "text": [
      "(64667, 379)\n",
      "(16000, 379)\n",
      "(64667,)\n"
     ]
    }
   ],
   "source": [
    "# look at the shapes\n",
    "print(x_train.shape)\n",
    "print(x_test.shape)\n",
    "print(y_train.shape)"
   ]
  },
  {
   "cell_type": "code",
   "execution_count": 87,
   "metadata": {},
   "outputs": [
    {
     "name": "stdout",
     "output_type": "stream",
     "text": [
      "False\n",
      "False\n"
     ]
    }
   ],
   "source": [
    "# check for nans\n",
    "print (np.isnan(x_train).any())\n",
    "print (np.isnan(x_test).any())"
   ]
  },
  {
   "cell_type": "code",
   "execution_count": 88,
   "metadata": {},
   "outputs": [],
   "source": [
    "# make list for deletion based on non-unique vals\n",
    "deletion = []\n",
    "#tdeletion = []\n",
    "\n",
    "# normalize everything by iterating over columns\n",
    "for i in range(x_train.shape[1]):\n",
    "    # first, check that this column has >1 unique values\n",
    "    if np.unique(x_train[:,i]).shape[0] == 1:\n",
    "        # throw away this column for now\n",
    "        deletion.append(i)\n",
    "    else:\n",
    "        low = np.min(x_train[:,i])\n",
    "        high = np.max(x_train[:,i])\n",
    "        x_train[:,i] = (x_train[:,i] - low) / (high - low)\n",
    "        x_test[:,i] = (x_test[:,i] - low) / (high - low)\n",
    "        \n",
    "    '''\n",
    "    if np.unique(x_test[:,i]).shape[0] == 1:\n",
    "        tdeletion.append(i)\n",
    "    else:\n",
    "        tlow = np.min(x_test[:,i])\n",
    "        thigh = np.max(x_test[:,i])\n",
    "    '''\n",
    "\n",
    "# clean up data, removing unnecessary columns\n",
    "x_train = np.delete(x_train, deletion, 1)\n",
    "x_test = np.delete(x_test, deletion, 1)"
   ]
  },
  {
   "cell_type": "code",
   "execution_count": 89,
   "metadata": {},
   "outputs": [
    {
     "data": {
      "text/plain": [
       "[9, 11, 13, 44, 55, 126, 127, 128, 132, 133, 134, 251, 255]"
      ]
     },
     "execution_count": 89,
     "metadata": {},
     "output_type": "execute_result"
    }
   ],
   "source": [
    "deletion"
   ]
  },
  {
   "cell_type": "code",
   "execution_count": 90,
   "metadata": {},
   "outputs": [],
   "source": [
    "#tdeletion"
   ]
  },
  {
   "cell_type": "code",
   "execution_count": 91,
   "metadata": {},
   "outputs": [
    {
     "data": {
      "text/plain": [
       "(64667, 366)"
      ]
     },
     "execution_count": 91,
     "metadata": {},
     "output_type": "execute_result"
    }
   ],
   "source": [
    "x_train.shape"
   ]
  },
  {
   "cell_type": "code",
   "execution_count": 92,
   "metadata": {},
   "outputs": [
    {
     "data": {
      "text/plain": [
       "(16000, 366)"
      ]
     },
     "execution_count": 92,
     "metadata": {},
     "output_type": "execute_result"
    }
   ],
   "source": [
    "x_test.shape"
   ]
  },
  {
   "cell_type": "code",
   "execution_count": 95,
   "metadata": {},
   "outputs": [
    {
     "name": "stdout",
     "output_type": "stream",
     "text": [
      "_________________________________________________________________\n",
      "Layer (type)                 Output Shape              Param #   \n",
      "=================================================================\n",
      "dense_13 (Dense)             (None, 400)               146800    \n",
      "_________________________________________________________________\n",
      "activation_13 (Activation)   (None, 400)               0         \n",
      "_________________________________________________________________\n",
      "dropout_7 (Dropout)          (None, 400)               0         \n",
      "_________________________________________________________________\n",
      "dense_14 (Dense)             (None, 250)               100250    \n",
      "_________________________________________________________________\n",
      "activation_14 (Activation)   (None, 250)               0         \n",
      "_________________________________________________________________\n",
      "dropout_8 (Dropout)          (None, 250)               0         \n",
      "_________________________________________________________________\n",
      "dense_15 (Dense)             (None, 350)               87850     \n",
      "_________________________________________________________________\n",
      "activation_15 (Activation)   (None, 350)               0         \n",
      "_________________________________________________________________\n",
      "dense_16 (Dense)             (None, 1)                 351       \n",
      "_________________________________________________________________\n",
      "activation_16 (Activation)   (None, 1)                 0         \n",
      "=================================================================\n",
      "Total params: 335,251\n",
      "Trainable params: 335,251\n",
      "Non-trainable params: 0\n",
      "_________________________________________________________________\n",
      "Epoch 1/10\n",
      "64667/64667 [==============================] - 19s 289us/step - loss: 0.7446 - acc: 0.2554 - mean_squared_error: 0.7446 - auc: 0.5000\n",
      "Epoch 2/10\n",
      "64667/64667 [==============================] - 16s 248us/step - loss: 0.7446 - acc: 0.2554 - mean_squared_error: 0.7446 - auc: 0.5000\n",
      "Epoch 3/10\n",
      "64667/64667 [==============================] - 17s 259us/step - loss: 0.7446 - acc: 0.2554 - mean_squared_error: 0.7446 - auc: 0.5000\n",
      "Epoch 4/10\n",
      "64667/64667 [==============================] - 17s 260us/step - loss: 0.7446 - acc: 0.2554 - mean_squared_error: 0.7446 - auc: 0.5000\n",
      "Epoch 5/10\n",
      "64667/64667 [==============================] - 17s 268us/step - loss: 0.7446 - acc: 0.2554 - mean_squared_error: 0.7446 - auc: 0.5000\n",
      "Epoch 6/10\n",
      "64667/64667 [==============================] - 17s 256us/step - loss: 0.7446 - acc: 0.2554 - mean_squared_error: 0.7446 - auc: 0.5000\n",
      "Epoch 7/10\n",
      "64667/64667 [==============================] - 16s 248us/step - loss: 0.7446 - acc: 0.2554 - mean_squared_error: 0.7446 - auc: 0.5000\n",
      "Epoch 8/10\n",
      "64667/64667 [==============================] - 16s 243us/step - loss: 0.7446 - acc: 0.2554 - mean_squared_error: 0.7446 - auc: 0.5000\n",
      "Epoch 9/10\n",
      "64667/64667 [==============================] - 16s 244us/step - loss: 0.7446 - acc: 0.2554 - mean_squared_error: 0.7446 - auc: 0.5000\n",
      "Epoch 10/10\n",
      "64667/64667 [==============================] - 16s 251us/step - loss: 0.7446 - acc: 0.2554 - mean_squared_error: 0.7446 - auc: 0.5000\n"
     ]
    }
   ],
   "source": [
    "# set up a model\n",
    "model = Sequential()\n",
    "model.add(Dense(400, input_dim=x_train.shape[1])) # train with 400 units\n",
    "model.add(Activation('relu'))\n",
    "model.add(Dropout(0.3)) # regularization - throw out 30% of weights\n",
    "model.add(Dense(250)) # train with 300 units\n",
    "model.add(Activation('relu'))\n",
    "model.add(Dropout(0.15)) # regularization - throw out 15% of weights\n",
    "model.add(Dense(350)) # train with 300 units\n",
    "model.add(Activation('relu'))\n",
    "model.add(Dense(1)) # dense(1) in order to output one probability value\n",
    "model.add(Activation('softmax')) # strictly speaking softmax might not be needed? unless value isn't a probability\n",
    "\n",
    "# print summary of layers and weights\n",
    "model.summary()\n",
    "\n",
    "# want a regression, so loss is mean squared error instead of categorical_crossentropy\n",
    "model.compile(loss='mse', optimizer='rmsprop', metrics=['accuracy', 'mse', auc])\n",
    "\n",
    "fit = model.fit(x_train, y_train, batch_size=32, epochs=10, verbose=1)"
   ]
  },
  {
   "cell_type": "code",
   "execution_count": 96,
   "metadata": {},
   "outputs": [],
   "source": [
    "results = model.predict(x_test)"
   ]
  },
  {
   "cell_type": "code",
   "execution_count": 97,
   "metadata": {},
   "outputs": [
    {
     "data": {
      "text/plain": [
       "(16000, 1)"
      ]
     },
     "execution_count": 97,
     "metadata": {},
     "output_type": "execute_result"
    }
   ],
   "source": [
    "results.shape"
   ]
  },
  {
   "cell_type": "code",
   "execution_count": 98,
   "metadata": {},
   "outputs": [
    {
     "data": {
      "text/plain": [
       "array([[1.],\n",
       "       [1.],\n",
       "       [1.],\n",
       "       ...,\n",
       "       [1.],\n",
       "       [1.],\n",
       "       [1.]], dtype=float32)"
      ]
     },
     "execution_count": 98,
     "metadata": {},
     "output_type": "execute_result"
    }
   ],
   "source": [
    "results"
   ]
  },
  {
   "cell_type": "code",
   "execution_count": null,
   "metadata": {},
   "outputs": [],
   "source": []
  }
 ],
 "metadata": {
  "kernelspec": {
   "display_name": "Python 3",
   "language": "python",
   "name": "python3"
  },
  "language_info": {
   "codemirror_mode": {
    "name": "ipython",
    "version": 3
   },
   "file_extension": ".py",
   "mimetype": "text/x-python",
   "name": "python",
   "nbconvert_exporter": "python",
   "pygments_lexer": "ipython3",
   "version": "3.6.6"
  }
 },
 "nbformat": 4,
 "nbformat_minor": 2
}
