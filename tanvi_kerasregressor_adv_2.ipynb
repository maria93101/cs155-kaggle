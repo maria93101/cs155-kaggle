{
 "cells": [
  {
   "cell_type": "code",
   "execution_count": 1,
   "metadata": {},
   "outputs": [
    {
     "name": "stderr",
     "output_type": "stream",
     "text": [
      "Using TensorFlow backend.\n"
     ]
    }
   ],
   "source": [
    "# imports\n",
    "import numpy as np\n",
    "import pandas as pd\n",
    "import matplotlib.pyplot as plt\n",
    "\n",
    "import tensorflow as tf\n",
    "import keras\n",
    "from keras.models import Sequential\n",
    "from keras.layers.core import Dense, Activation, Flatten, Dropout\n",
    "from keras.wrappers.scikit_learn import KerasRegressor\n",
    "from keras import backend as k_back\n",
    "from sklearn.model_selection import cross_val_score\n",
    "from sklearn.model_selection import KFold\n",
    "from sklearn.preprocessing import StandardScaler\n",
    "from sklearn.preprocessing import MinMaxScaler\n",
    "from sklearn.pipeline import Pipeline\n",
    "from sklearn.metrics import roc_auc_score"
   ]
  },
  {
   "cell_type": "code",
   "execution_count": 2,
   "metadata": {},
   "outputs": [],
   "source": [
    "# define the AUC metric being used in the competition\n",
    "# this function can be used in Keras' Sequential Model compilation only\n",
    "def auc(y_true, y_pred):\n",
    "    auc = tf.metrics.auc(y_true, y_pred)[1]\n",
    "    k_back.get_session().run(tf.local_variables_initializer())\n",
    "    return auc"
   ]
  },
  {
   "cell_type": "code",
   "execution_count": 3,
   "metadata": {},
   "outputs": [],
   "source": [
    "def load_data(filename, skiprows = 1):\n",
    "    \"\"\"\n",
    "    Function loads data stored in the file filename and returns it as a numpy ndarray.\n",
    "    \n",
    "    Inputs:\n",
    "        filename: given as a string.\n",
    "        \n",
    "    Outputs:\n",
    "        Data contained in the file, returned as a numpy ndarray\n",
    "    \"\"\"\n",
    "    return np.loadtxt(filename, skiprows=skiprows, delimiter=',')"
   ]
  },
  {
   "cell_type": "code",
   "execution_count": 14,
   "metadata": {},
   "outputs": [],
   "source": [
    "train = load_data('data/train_2008.csv', 1)\n",
    "test = load_data('data/test_2008.csv', 1)"
   ]
  },
  {
   "cell_type": "code",
   "execution_count": 15,
   "metadata": {},
   "outputs": [],
   "source": [
    "x_train = train[:, :-1]\n",
    "y_train = train[:, -1]\n",
    "\n",
    "x_test = test[:,:]"
   ]
  },
  {
   "cell_type": "code",
   "execution_count": 16,
   "metadata": {},
   "outputs": [
    {
     "name": "stdout",
     "output_type": "stream",
     "text": [
      "(64667, 382)\n",
      "(16000, 382)\n",
      "(64667,)\n"
     ]
    }
   ],
   "source": [
    "# look at the shapes\n",
    "print(x_train.shape)\n",
    "print(x_test.shape)\n",
    "print(y_train.shape)"
   ]
  },
  {
   "cell_type": "code",
   "execution_count": 17,
   "metadata": {},
   "outputs": [],
   "source": [
    "merged = np.concatenate((x_train, x_test), axis=0)"
   ]
  },
  {
   "cell_type": "code",
   "execution_count": 18,
   "metadata": {},
   "outputs": [
    {
     "data": {
      "text/plain": [
       "(80667, 382)"
      ]
     },
     "execution_count": 18,
     "metadata": {},
     "output_type": "execute_result"
    }
   ],
   "source": [
    "merged.shape"
   ]
  },
  {
   "cell_type": "code",
   "execution_count": 19,
   "metadata": {},
   "outputs": [],
   "source": [
    "mmscaler = MinMaxScaler()\n",
    "merged = mmscaler.fit_transform(merged)"
   ]
  },
  {
   "cell_type": "code",
   "execution_count": 20,
   "metadata": {},
   "outputs": [
    {
     "name": "stdout",
     "output_type": "stream",
     "text": [
      "(64667, 382)\n",
      "(16000, 382)\n",
      "(64667,)\n"
     ]
    }
   ],
   "source": [
    "# break up into test and train again\n",
    "x_train = merged[:64667,:]\n",
    "x_test = merged[64667:,:]\n",
    "\n",
    "print(x_train.shape)\n",
    "print(x_test.shape)\n",
    "print(y_train.shape)"
   ]
  },
  {
   "cell_type": "code",
   "execution_count": 21,
   "metadata": {},
   "outputs": [],
   "source": [
    "# define base model\n",
    "# NOTE: this is the most complex model, but without softmax - retrying after kerasregressor_adv seemed to work\n",
    "# removed softmax because i don't want everything to sum to 1\n",
    "def easy_model():\n",
    "    model = Sequential()\n",
    "    model.add(Dense(400, input_dim=x_train.shape[1], kernel_initializer='normal')) # train with 400 units\n",
    "    model.add(Activation('relu'))\n",
    "    model.add(Dropout(0.3)) # regularization - throw out 30% of weights\n",
    "    model.add(Dense(250, kernel_initializer='normal')) # train with 300 units\n",
    "    model.add(Activation('relu'))\n",
    "    model.add(Dropout(0.15)) # regularization - throw out 15% of weights\n",
    "    model.add(Dense(350, kernel_initializer='normal')) # train with 300 units\n",
    "    model.add(Activation('relu'))\n",
    "    # Dense(10) in order to conform with the binary encoding\n",
    "    model.add(Dense(1, kernel_initializer='normal'))    \n",
    "\n",
    "    # print summary of layers and weights\n",
    "    model.summary()\n",
    "    \n",
    "    # want a regression, so loss is mean squared error instead of categorical_crossentropy\n",
    "    model.compile(loss='mean_squared_error', optimizer='adam')\n",
    "    \n",
    "    return model"
   ]
  },
  {
   "cell_type": "code",
   "execution_count": 22,
   "metadata": {},
   "outputs": [],
   "source": [
    "# evaluate model with standardized dataset\n",
    "easy_estimator = KerasRegressor(build_fn=easy_model, epochs=10, batch_size=32, verbose=0)"
   ]
  },
  {
   "cell_type": "code",
   "execution_count": 24,
   "metadata": {},
   "outputs": [
    {
     "name": "stdout",
     "output_type": "stream",
     "text": [
      "_________________________________________________________________\n",
      "Layer (type)                 Output Shape              Param #   \n",
      "=================================================================\n",
      "dense_5 (Dense)              (None, 400)               153200    \n",
      "_________________________________________________________________\n",
      "activation_4 (Activation)    (None, 400)               0         \n",
      "_________________________________________________________________\n",
      "dropout_3 (Dropout)          (None, 400)               0         \n",
      "_________________________________________________________________\n",
      "dense_6 (Dense)              (None, 250)               100250    \n",
      "_________________________________________________________________\n",
      "activation_5 (Activation)    (None, 250)               0         \n",
      "_________________________________________________________________\n",
      "dropout_4 (Dropout)          (None, 250)               0         \n",
      "_________________________________________________________________\n",
      "dense_7 (Dense)              (None, 350)               87850     \n",
      "_________________________________________________________________\n",
      "activation_6 (Activation)    (None, 350)               0         \n",
      "_________________________________________________________________\n",
      "dense_8 (Dense)              (None, 1)                 351       \n",
      "=================================================================\n",
      "Total params: 341,651\n",
      "Trainable params: 341,651\n",
      "Non-trainable params: 0\n",
      "_________________________________________________________________\n",
      "_________________________________________________________________\n",
      "Layer (type)                 Output Shape              Param #   \n",
      "=================================================================\n",
      "dense_9 (Dense)              (None, 400)               153200    \n",
      "_________________________________________________________________\n",
      "activation_7 (Activation)    (None, 400)               0         \n",
      "_________________________________________________________________\n",
      "dropout_5 (Dropout)          (None, 400)               0         \n",
      "_________________________________________________________________\n",
      "dense_10 (Dense)             (None, 250)               100250    \n",
      "_________________________________________________________________\n",
      "activation_8 (Activation)    (None, 250)               0         \n",
      "_________________________________________________________________\n",
      "dropout_6 (Dropout)          (None, 250)               0         \n",
      "_________________________________________________________________\n",
      "dense_11 (Dense)             (None, 350)               87850     \n",
      "_________________________________________________________________\n",
      "activation_9 (Activation)    (None, 350)               0         \n",
      "_________________________________________________________________\n",
      "dense_12 (Dense)             (None, 1)                 351       \n",
      "=================================================================\n",
      "Total params: 341,651\n",
      "Trainable params: 341,651\n",
      "Non-trainable params: 0\n",
      "_________________________________________________________________\n",
      "_________________________________________________________________\n",
      "Layer (type)                 Output Shape              Param #   \n",
      "=================================================================\n",
      "dense_13 (Dense)             (None, 400)               153200    \n",
      "_________________________________________________________________\n",
      "activation_10 (Activation)   (None, 400)               0         \n",
      "_________________________________________________________________\n",
      "dropout_7 (Dropout)          (None, 400)               0         \n",
      "_________________________________________________________________\n",
      "dense_14 (Dense)             (None, 250)               100250    \n",
      "_________________________________________________________________\n",
      "activation_11 (Activation)   (None, 250)               0         \n",
      "_________________________________________________________________\n",
      "dropout_8 (Dropout)          (None, 250)               0         \n",
      "_________________________________________________________________\n",
      "dense_15 (Dense)             (None, 350)               87850     \n",
      "_________________________________________________________________\n",
      "activation_12 (Activation)   (None, 350)               0         \n",
      "_________________________________________________________________\n",
      "dense_16 (Dense)             (None, 1)                 351       \n",
      "=================================================================\n",
      "Total params: 341,651\n",
      "Trainable params: 341,651\n",
      "Non-trainable params: 0\n",
      "_________________________________________________________________\n",
      "_________________________________________________________________\n",
      "Layer (type)                 Output Shape              Param #   \n",
      "=================================================================\n",
      "dense_17 (Dense)             (None, 400)               153200    \n",
      "_________________________________________________________________\n",
      "activation_13 (Activation)   (None, 400)               0         \n",
      "_________________________________________________________________\n",
      "dropout_9 (Dropout)          (None, 400)               0         \n",
      "_________________________________________________________________\n",
      "dense_18 (Dense)             (None, 250)               100250    \n",
      "_________________________________________________________________\n",
      "activation_14 (Activation)   (None, 250)               0         \n",
      "_________________________________________________________________\n",
      "dropout_10 (Dropout)         (None, 250)               0         \n",
      "_________________________________________________________________\n",
      "dense_19 (Dense)             (None, 350)               87850     \n",
      "_________________________________________________________________\n",
      "activation_15 (Activation)   (None, 350)               0         \n",
      "_________________________________________________________________\n",
      "dense_20 (Dense)             (None, 1)                 351       \n",
      "=================================================================\n",
      "Total params: 341,651\n",
      "Trainable params: 341,651\n",
      "Non-trainable params: 0\n",
      "_________________________________________________________________\n",
      "_________________________________________________________________\n",
      "Layer (type)                 Output Shape              Param #   \n",
      "=================================================================\n",
      "dense_21 (Dense)             (None, 400)               153200    \n",
      "_________________________________________________________________\n",
      "activation_16 (Activation)   (None, 400)               0         \n",
      "_________________________________________________________________\n",
      "dropout_11 (Dropout)         (None, 400)               0         \n",
      "_________________________________________________________________\n",
      "dense_22 (Dense)             (None, 250)               100250    \n",
      "_________________________________________________________________\n",
      "activation_17 (Activation)   (None, 250)               0         \n",
      "_________________________________________________________________\n",
      "dropout_12 (Dropout)         (None, 250)               0         \n",
      "_________________________________________________________________\n",
      "dense_23 (Dense)             (None, 350)               87850     \n",
      "_________________________________________________________________\n",
      "activation_18 (Activation)   (None, 350)               0         \n",
      "_________________________________________________________________\n",
      "dense_24 (Dense)             (None, 1)                 351       \n",
      "=================================================================\n",
      "Total params: 341,651\n",
      "Trainable params: 341,651\n",
      "Non-trainable params: 0\n",
      "_________________________________________________________________\n",
      "_________________________________________________________________\n",
      "Layer (type)                 Output Shape              Param #   \n",
      "=================================================================\n",
      "dense_25 (Dense)             (None, 400)               153200    \n",
      "_________________________________________________________________\n",
      "activation_19 (Activation)   (None, 400)               0         \n",
      "_________________________________________________________________\n",
      "dropout_13 (Dropout)         (None, 400)               0         \n",
      "_________________________________________________________________\n",
      "dense_26 (Dense)             (None, 250)               100250    \n",
      "_________________________________________________________________\n",
      "activation_20 (Activation)   (None, 250)               0         \n",
      "_________________________________________________________________\n",
      "dropout_14 (Dropout)         (None, 250)               0         \n",
      "_________________________________________________________________\n",
      "dense_27 (Dense)             (None, 350)               87850     \n",
      "_________________________________________________________________\n",
      "activation_21 (Activation)   (None, 350)               0         \n",
      "_________________________________________________________________\n",
      "dense_28 (Dense)             (None, 1)                 351       \n",
      "=================================================================\n",
      "Total params: 341,651\n",
      "Trainable params: 341,651\n",
      "Non-trainable params: 0\n",
      "_________________________________________________________________\n",
      "_________________________________________________________________\n",
      "Layer (type)                 Output Shape              Param #   \n",
      "=================================================================\n",
      "dense_29 (Dense)             (None, 400)               153200    \n",
      "_________________________________________________________________\n",
      "activation_22 (Activation)   (None, 400)               0         \n",
      "_________________________________________________________________\n",
      "dropout_15 (Dropout)         (None, 400)               0         \n",
      "_________________________________________________________________\n",
      "dense_30 (Dense)             (None, 250)               100250    \n",
      "_________________________________________________________________\n",
      "activation_23 (Activation)   (None, 250)               0         \n",
      "_________________________________________________________________\n",
      "dropout_16 (Dropout)         (None, 250)               0         \n",
      "_________________________________________________________________\n",
      "dense_31 (Dense)             (None, 350)               87850     \n",
      "_________________________________________________________________\n",
      "activation_24 (Activation)   (None, 350)               0         \n",
      "_________________________________________________________________\n",
      "dense_32 (Dense)             (None, 1)                 351       \n",
      "=================================================================\n",
      "Total params: 341,651\n",
      "Trainable params: 341,651\n",
      "Non-trainable params: 0\n",
      "_________________________________________________________________\n",
      "_________________________________________________________________\n",
      "Layer (type)                 Output Shape              Param #   \n",
      "=================================================================\n",
      "dense_33 (Dense)             (None, 400)               153200    \n",
      "_________________________________________________________________\n",
      "activation_25 (Activation)   (None, 400)               0         \n",
      "_________________________________________________________________\n",
      "dropout_17 (Dropout)         (None, 400)               0         \n",
      "_________________________________________________________________\n",
      "dense_34 (Dense)             (None, 250)               100250    \n",
      "_________________________________________________________________\n",
      "activation_26 (Activation)   (None, 250)               0         \n",
      "_________________________________________________________________\n",
      "dropout_18 (Dropout)         (None, 250)               0         \n",
      "_________________________________________________________________\n",
      "dense_35 (Dense)             (None, 350)               87850     \n",
      "_________________________________________________________________\n",
      "activation_27 (Activation)   (None, 350)               0         \n",
      "_________________________________________________________________\n",
      "dense_36 (Dense)             (None, 1)                 351       \n",
      "=================================================================\n",
      "Total params: 341,651\n",
      "Trainable params: 341,651\n",
      "Non-trainable params: 0\n",
      "_________________________________________________________________\n",
      "_________________________________________________________________\n",
      "Layer (type)                 Output Shape              Param #   \n",
      "=================================================================\n",
      "dense_37 (Dense)             (None, 400)               153200    \n",
      "_________________________________________________________________\n",
      "activation_28 (Activation)   (None, 400)               0         \n",
      "_________________________________________________________________\n",
      "dropout_19 (Dropout)         (None, 400)               0         \n",
      "_________________________________________________________________\n",
      "dense_38 (Dense)             (None, 250)               100250    \n",
      "_________________________________________________________________\n",
      "activation_29 (Activation)   (None, 250)               0         \n",
      "_________________________________________________________________\n",
      "dropout_20 (Dropout)         (None, 250)               0         \n",
      "_________________________________________________________________\n",
      "dense_39 (Dense)             (None, 350)               87850     \n",
      "_________________________________________________________________\n",
      "activation_30 (Activation)   (None, 350)               0         \n",
      "_________________________________________________________________\n",
      "dense_40 (Dense)             (None, 1)                 351       \n",
      "=================================================================\n",
      "Total params: 341,651\n",
      "Trainable params: 341,651\n",
      "Non-trainable params: 0\n",
      "_________________________________________________________________\n",
      "_________________________________________________________________\n",
      "Layer (type)                 Output Shape              Param #   \n",
      "=================================================================\n",
      "dense_41 (Dense)             (None, 400)               153200    \n",
      "_________________________________________________________________\n",
      "activation_31 (Activation)   (None, 400)               0         \n",
      "_________________________________________________________________\n",
      "dropout_21 (Dropout)         (None, 400)               0         \n",
      "_________________________________________________________________\n",
      "dense_42 (Dense)             (None, 250)               100250    \n",
      "_________________________________________________________________\n",
      "activation_32 (Activation)   (None, 250)               0         \n",
      "_________________________________________________________________\n",
      "dropout_22 (Dropout)         (None, 250)               0         \n",
      "_________________________________________________________________\n",
      "dense_43 (Dense)             (None, 350)               87850     \n",
      "_________________________________________________________________\n",
      "activation_33 (Activation)   (None, 350)               0         \n",
      "_________________________________________________________________\n",
      "dense_44 (Dense)             (None, 1)                 351       \n",
      "=================================================================\n",
      "Total params: 341,651\n",
      "Trainable params: 341,651\n",
      "Non-trainable params: 0\n",
      "_________________________________________________________________\n",
      "Results: -0.16 (0.00) MSE\n"
     ]
    }
   ],
   "source": [
    "# perform cross validation\n",
    "easy_kfold = KFold(n_splits=10)\n",
    "easy_results = cross_val_score(easy_estimator, x_train, y_train, cv=easy_kfold)\n",
    "print(\"Results: %.2f (%.2f) MSE\" % (easy_results.mean(), easy_results.std()))"
   ]
  },
  {
   "cell_type": "code",
   "execution_count": 25,
   "metadata": {},
   "outputs": [
    {
     "name": "stdout",
     "output_type": "stream",
     "text": [
      "_________________________________________________________________\n",
      "Layer (type)                 Output Shape              Param #   \n",
      "=================================================================\n",
      "dense_45 (Dense)             (None, 400)               153200    \n",
      "_________________________________________________________________\n",
      "activation_34 (Activation)   (None, 400)               0         \n",
      "_________________________________________________________________\n",
      "dropout_23 (Dropout)         (None, 400)               0         \n",
      "_________________________________________________________________\n",
      "dense_46 (Dense)             (None, 250)               100250    \n",
      "_________________________________________________________________\n",
      "activation_35 (Activation)   (None, 250)               0         \n",
      "_________________________________________________________________\n",
      "dropout_24 (Dropout)         (None, 250)               0         \n",
      "_________________________________________________________________\n",
      "dense_47 (Dense)             (None, 350)               87850     \n",
      "_________________________________________________________________\n",
      "activation_36 (Activation)   (None, 350)               0         \n",
      "_________________________________________________________________\n",
      "dense_48 (Dense)             (None, 1)                 351       \n",
      "=================================================================\n",
      "Total params: 341,651\n",
      "Trainable params: 341,651\n",
      "Non-trainable params: 0\n",
      "_________________________________________________________________\n"
     ]
    }
   ],
   "source": [
    "# fit to train, predict both train and test\n",
    "easy_estimator.fit(x_train, y_train)\n",
    "easy_y_train = easy_estimator.predict(x_train)\n",
    "easy_y_test = easy_estimator.predict(x_test)"
   ]
  },
  {
   "cell_type": "code",
   "execution_count": 26,
   "metadata": {},
   "outputs": [
    {
     "name": "stdout",
     "output_type": "stream",
     "text": [
      "(64667,)\n",
      "(16000,)\n"
     ]
    }
   ],
   "source": [
    "print (easy_y_train.shape)\n",
    "print (easy_y_test.shape)"
   ]
  },
  {
   "cell_type": "code",
   "execution_count": 27,
   "metadata": {},
   "outputs": [
    {
     "name": "stdout",
     "output_type": "stream",
     "text": [
      "1515\n",
      "31\n",
      "405\n",
      "5\n"
     ]
    }
   ],
   "source": [
    "# look at numbers of predictions out of bounds\n",
    "print (np.sum(np.array(easy_y_train) < 0))\n",
    "print (np.sum(np.array(easy_y_train) > 1))\n",
    "print (np.sum(np.array(easy_y_test) < 0))\n",
    "print (np.sum(np.array(easy_y_test) > 1))"
   ]
  },
  {
   "cell_type": "code",
   "execution_count": 28,
   "metadata": {},
   "outputs": [
    {
     "name": "stdout",
     "output_type": "stream",
     "text": [
      "(64667, 1)\n",
      "(16000, 1)\n"
     ]
    }
   ],
   "source": [
    "# reshape to (x, 1) and normalize to (0,1)\n",
    "norm_y_train = easy_y_train.reshape(64667, 1)\n",
    "norm_y_test = easy_y_test.reshape(16000, 1)\n",
    "\n",
    "# normalize output data\n",
    "norm_y_train = mmscaler.fit_transform(norm_y_train)\n",
    "norm_y_test = mmscaler.fit_transform(norm_y_test)\n",
    "\n",
    "# check shapes\n",
    "print (norm_y_train.shape)\n",
    "print (norm_y_test.shape)"
   ]
  },
  {
   "cell_type": "code",
   "execution_count": 29,
   "metadata": {},
   "outputs": [
    {
     "data": {
      "text/plain": [
       "0.7832419006982481"
      ]
     },
     "execution_count": 29,
     "metadata": {},
     "output_type": "execute_result"
    }
   ],
   "source": [
    "roc_auc_score(y_train, norm_y_train)"
   ]
  },
  {
   "cell_type": "code",
   "execution_count": 29,
   "metadata": {},
   "outputs": [],
   "source": [
    "# output to file\n",
    "ids = test[:,:1]\n",
    "ids = ids.astype(int)\n",
    "predictions = norm_y_test.astype(float)\n",
    "out = np.concatenate((ids, predictions), axis=1)\n",
    "\n",
    "np.savetxt('adv_submission.csv', out, delimiter=',', fmt='%1.10f', header = 'id,target')\n",
    "# NOTE: REMEMBER TO REMOVE THE # SYMBOL FROM THE ID HEADER BEFORE SUBMITTING"
   ]
  },
  {
   "cell_type": "code",
   "execution_count": null,
   "metadata": {},
   "outputs": [],
   "source": []
  }
 ],
 "metadata": {
  "kernelspec": {
   "display_name": "Python 3",
   "language": "python",
   "name": "python3"
  },
  "language_info": {
   "codemirror_mode": {
    "name": "ipython",
    "version": 3
   },
   "file_extension": ".py",
   "mimetype": "text/x-python",
   "name": "python",
   "nbconvert_exporter": "python",
   "pygments_lexer": "ipython3",
   "version": "3.6.6"
  }
 },
 "nbformat": 4,
 "nbformat_minor": 2
}
